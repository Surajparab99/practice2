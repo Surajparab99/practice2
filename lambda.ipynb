{
 "cells": [
  {
   "cell_type": "code",
   "execution_count": null,
   "id": "3d8ef4df",
   "metadata": {},
   "outputs": [],
   "source": [
    "lambda :\n",
    "it is temporary\n",
    "inline/one line function\n",
    "Anonymous  -- dont have name\n",
    "just in time/higher order function\n",
    "one time use "
   ]
  },
  {
   "cell_type": "code",
   "execution_count": null,
   "id": "7e6f78b3",
   "metadata": {},
   "outputs": [],
   "source": [
    "lambda inputs :  output expression"
   ]
  },
  {
   "cell_type": "code",
   "execution_count": 1,
   "id": "fbcbfbbc",
   "metadata": {},
   "outputs": [
    {
     "data": {
      "text/plain": [
       "105"
      ]
     },
     "execution_count": 1,
     "metadata": {},
     "output_type": "execute_result"
    }
   ],
   "source": [
    "(lambda x,y: x+y)(15,90)"
   ]
  },
  {
   "cell_type": "code",
   "execution_count": null,
   "id": "d1d21349",
   "metadata": {},
   "outputs": [],
   "source": [
    "x2+2xy+y2"
   ]
  },
  {
   "cell_type": "code",
   "execution_count": 2,
   "id": "34ceb5a0",
   "metadata": {},
   "outputs": [
    {
     "data": {
      "text/plain": [
       "529"
      ]
     },
     "execution_count": 2,
     "metadata": {},
     "output_type": "execute_result"
    }
   ],
   "source": [
    "(lambda x,y : x**2 + 2*x*y+y**2)(10,13)"
   ]
  },
  {
   "cell_type": "code",
   "execution_count": null,
   "id": "142f57ef",
   "metadata": {},
   "outputs": [],
   "source": [
    "lambda -->\n",
    "\n",
    "map\n",
    "filter"
   ]
  },
  {
   "cell_type": "code",
   "execution_count": null,
   "id": "21ed2a70",
   "metadata": {},
   "outputs": [],
   "source": [
    "map(function, seq ) --> list/tuple/set/dict"
   ]
  },
  {
   "cell_type": "code",
   "execution_count": 3,
   "id": "9b598a3e",
   "metadata": {},
   "outputs": [],
   "source": [
    "p = [1,2,6,8,4,8,5,7]"
   ]
  },
  {
   "cell_type": "code",
   "execution_count": null,
   "id": "2fec3a65",
   "metadata": {},
   "outputs": [],
   "source": [
    "[1,4,36,64,16,64,25,49]"
   ]
  },
  {
   "cell_type": "code",
   "execution_count": 8,
   "id": "ddda35da",
   "metadata": {},
   "outputs": [],
   "source": [
    "temp = []\n",
    "for i in p:\n",
    "    temp.append(i**2)"
   ]
  },
  {
   "cell_type": "code",
   "execution_count": 9,
   "id": "c06751d8",
   "metadata": {},
   "outputs": [
    {
     "data": {
      "text/plain": [
       "[1, 4, 36, 64, 16, 64, 25, 49]"
      ]
     },
     "execution_count": 9,
     "metadata": {},
     "output_type": "execute_result"
    }
   ],
   "source": [
    "temp"
   ]
  },
  {
   "cell_type": "code",
   "execution_count": 10,
   "id": "f1349948",
   "metadata": {},
   "outputs": [],
   "source": [
    "def sqr(e):\n",
    "    return e*e\n",
    "list(map(sqr,p))"
   ]
  },
  {
   "cell_type": "code",
   "execution_count": null,
   "id": "28bccc0b",
   "metadata": {},
   "outputs": [],
   "source": [
    "map -- > function apply to seq"
   ]
  },
  {
   "cell_type": "code",
   "execution_count": 13,
   "id": "1e55fd30",
   "metadata": {},
   "outputs": [
    {
     "data": {
      "text/plain": [
       "[1, 4, 36, 64, 16, 64, 25, 49]"
      ]
     },
     "execution_count": 13,
     "metadata": {},
     "output_type": "execute_result"
    }
   ],
   "source": [
    "list(map(lambda x: x*x,p))"
   ]
  },
  {
   "cell_type": "code",
   "execution_count": 14,
   "id": "d536c65b",
   "metadata": {},
   "outputs": [],
   "source": [
    "email = ['asdf@gmail.com','asfsda@yahoo.com','asfsda@rediffmail.com','sdafsd@gmail.com']"
   ]
  },
  {
   "cell_type": "code",
   "execution_count": 18,
   "id": "6320ae6c",
   "metadata": {},
   "outputs": [
    {
     "data": {
      "text/plain": [
       "['asdf', 'asfsda', 'asfsda', 'sdafsd']"
      ]
     },
     "execution_count": 18,
     "metadata": {},
     "output_type": "execute_result"
    }
   ],
   "source": [
    "#using normal function\n",
    "def email_user(em):\n",
    "    username = em.split('@')[0]\n",
    "    return username\n",
    "list(map(email_user,email))"
   ]
  },
  {
   "cell_type": "code",
   "execution_count": 22,
   "id": "1b584f42",
   "metadata": {},
   "outputs": [
    {
     "data": {
      "text/plain": [
       "['asdf', 'asfsda', 'asfsda', 'sdafsd']"
      ]
     },
     "execution_count": 22,
     "metadata": {},
     "output_type": "execute_result"
    }
   ],
   "source": [
    "#using lambda function\n",
    "list(map(lambda x : x.split('@')[0],email))"
   ]
  },
  {
   "cell_type": "code",
   "execution_count": 23,
   "id": "59852ce0",
   "metadata": {},
   "outputs": [],
   "source": [
    "product_id = ['3556','76546546','345345','3453456345','5345345435']"
   ]
  },
  {
   "cell_type": "code",
   "execution_count": 24,
   "id": "50a77a2d",
   "metadata": {},
   "outputs": [
    {
     "data": {
      "text/plain": [
       "[3556, 76546546, 345345, 3453456345, 5345345435]"
      ]
     },
     "execution_count": 24,
     "metadata": {},
     "output_type": "execute_result"
    }
   ],
   "source": [
    "list(map(lambda t: int(t),product_id))"
   ]
  },
  {
   "cell_type": "code",
   "execution_count": 25,
   "id": "67034ca4",
   "metadata": {},
   "outputs": [],
   "source": [
    "#filter"
   ]
  },
  {
   "cell_type": "code",
   "execution_count": 26,
   "id": "ba682229",
   "metadata": {},
   "outputs": [],
   "source": [
    "p = [4564,75,35,856,3,97,54,65,76,908,4,5697]"
   ]
  },
  {
   "cell_type": "code",
   "execution_count": 27,
   "id": "9813b3ca",
   "metadata": {},
   "outputs": [],
   "source": [
    "#normal approach"
   ]
  },
  {
   "cell_type": "code",
   "execution_count": 28,
   "id": "03cb4ba4",
   "metadata": {},
   "outputs": [],
   "source": [
    "even = []\n",
    "for i in p:\n",
    "    if i%2==0:#condition\n",
    "        even.append(i)"
   ]
  },
  {
   "cell_type": "code",
   "execution_count": 29,
   "id": "91e08e29",
   "metadata": {},
   "outputs": [
    {
     "data": {
      "text/plain": [
       "[4564, 856, 54, 76, 908, 4]"
      ]
     },
     "execution_count": 29,
     "metadata": {},
     "output_type": "execute_result"
    }
   ],
   "source": [
    "even"
   ]
  },
  {
   "cell_type": "code",
   "execution_count": 35,
   "id": "5af32f81",
   "metadata": {},
   "outputs": [],
   "source": [
    "tr = set(filter(lambda x: x%2==0,p))"
   ]
  },
  {
   "cell_type": "code",
   "execution_count": null,
   "id": "374062c1",
   "metadata": {},
   "outputs": [],
   "source": [
    "input list --> output list\n",
    "\n",
    "input list --> not equal output list"
   ]
  },
  {
   "cell_type": "code",
   "execution_count": 36,
   "id": "cdc00c14",
   "metadata": {},
   "outputs": [
    {
     "data": {
      "text/plain": [
       "{4, 54, 76, 856, 908, 4564}"
      ]
     },
     "execution_count": 36,
     "metadata": {},
     "output_type": "execute_result"
    }
   ],
   "source": [
    "tr"
   ]
  },
  {
   "cell_type": "code",
   "execution_count": 37,
   "id": "61c7c2be",
   "metadata": {},
   "outputs": [],
   "source": [
    "p1 = (34,76,53,5967,3,896756,5656,5656)"
   ]
  },
  {
   "cell_type": "code",
   "execution_count": 38,
   "id": "8add3e9c",
   "metadata": {},
   "outputs": [],
   "source": [
    "p1 = ('dsfdsf','345345','gdfgsdfgdf','4543543','45654654')"
   ]
  },
  {
   "cell_type": "code",
   "execution_count": 39,
   "id": "114abc42",
   "metadata": {},
   "outputs": [
    {
     "data": {
      "text/plain": [
       "('dsfdsf', '345345', 'gdfgsdfgdf', '4543543', '45654654')"
      ]
     },
     "execution_count": 39,
     "metadata": {},
     "output_type": "execute_result"
    }
   ],
   "source": [
    "p1"
   ]
  },
  {
   "cell_type": "code",
   "execution_count": 41,
   "id": "ca68daaa",
   "metadata": {},
   "outputs": [
    {
     "data": {
      "text/plain": [
       "['345345', '4543543', '45654654']"
      ]
     },
     "execution_count": 41,
     "metadata": {},
     "output_type": "execute_result"
    }
   ],
   "source": [
    "list(filter(lambda x : x.isnumeric(),p1))"
   ]
  },
  {
   "cell_type": "code",
   "execution_count": 42,
   "id": "7185199c",
   "metadata": {},
   "outputs": [],
   "source": [
    "p2 = ['m','f','m','m','m','f']"
   ]
  },
  {
   "cell_type": "code",
   "execution_count": null,
   "id": "526538c5",
   "metadata": {},
   "outputs": [],
   "source": [
    "m = 1,f = 0"
   ]
  },
  {
   "cell_type": "code",
   "execution_count": 43,
   "id": "7fa7a5ba",
   "metadata": {},
   "outputs": [
    {
     "data": {
      "text/plain": [
       "[1, 0, 1, 1, 1, 0]"
      ]
     },
     "execution_count": 43,
     "metadata": {},
     "output_type": "execute_result"
    }
   ],
   "source": [
    "list(map(lambda x : 1 if x=='m' else 0,p2))"
   ]
  },
  {
   "cell_type": "code",
   "execution_count": null,
   "id": "754fe5c6",
   "metadata": {},
   "outputs": [],
   "source": [
    "#ternary Operator\n",
    "1 if x=='m' else 0"
   ]
  },
  {
   "cell_type": "code",
   "execution_count": 44,
   "id": "215d8743",
   "metadata": {},
   "outputs": [],
   "source": [
    "a = 10"
   ]
  },
  {
   "cell_type": "code",
   "execution_count": 45,
   "id": "7b38b3eb",
   "metadata": {},
   "outputs": [],
   "source": [
    "b = 20"
   ]
  },
  {
   "cell_type": "code",
   "execution_count": 46,
   "id": "c0ac3b59",
   "metadata": {},
   "outputs": [],
   "source": [
    "c = a if a>b else b"
   ]
  },
  {
   "cell_type": "code",
   "execution_count": 47,
   "id": "8c01ed44",
   "metadata": {},
   "outputs": [
    {
     "data": {
      "text/plain": [
       "20"
      ]
     },
     "execution_count": 47,
     "metadata": {},
     "output_type": "execute_result"
    }
   ],
   "source": [
    "c"
   ]
  },
  {
   "cell_type": "code",
   "execution_count": 48,
   "id": "d1620608",
   "metadata": {},
   "outputs": [
    {
     "name": "stdout",
     "output_type": "stream",
     "text": [
      "Note: you may need to restart the kernel to use updated packages.\n"
     ]
    },
    {
     "name": "stderr",
     "output_type": "stream",
     "text": [
      "ERROR: Could not find a version that satisfies the requirement xelatex (from versions: none)\n",
      "ERROR: No matching distribution found for xelatex\n"
     ]
    }
   ],
   "source": [
    "pip install xelatex"
   ]
  },
  {
   "cell_type": "code",
   "execution_count": 49,
   "id": "a749d013",
   "metadata": {},
   "outputs": [
    {
     "name": "stdout",
     "output_type": "stream",
     "text": [
      "Collecting pyppeteer\n",
      "  Using cached pyppeteer-1.0.2-py3-none-any.whl (83 kB)\n",
      "Requirement already satisfied: appdirs<2.0.0,>=1.4.3 in c:\\users\\kanti\\anaconda3\\lib\\site-packages (from pyppeteer) (1.4.4)\n",
      "Collecting pyee<9.0.0,>=8.1.0\n",
      "  Using cached pyee-8.2.2-py2.py3-none-any.whl (12 kB)\n",
      "Requirement already satisfied: tqdm<5.0.0,>=4.42.1 in c:\\users\\kanti\\anaconda3\\lib\\site-packages (from pyppeteer) (4.64.0)\n",
      "Requirement already satisfied: certifi>=2021 in c:\\users\\kanti\\anaconda3\\lib\\site-packages (from pyppeteer) (2022.9.24)\n",
      "Collecting websockets<11.0,>=10.0\n",
      "  Downloading websockets-10.4-cp39-cp39-win_amd64.whl (101 kB)\n",
      "Requirement already satisfied: importlib-metadata>=1.4 in c:\\users\\kanti\\anaconda3\\lib\\site-packages (from pyppeteer) (4.11.3)\n",
      "Requirement already satisfied: urllib3<2.0.0,>=1.25.8 in c:\\users\\kanti\\anaconda3\\lib\\site-packages (from pyppeteer) (1.26.9)\n",
      "Requirement already satisfied: zipp>=0.5 in c:\\users\\kanti\\anaconda3\\lib\\site-packages (from importlib-metadata>=1.4->pyppeteer) (3.7.0)\n",
      "Requirement already satisfied: colorama in c:\\users\\kanti\\anaconda3\\lib\\site-packages (from tqdm<5.0.0,>=4.42.1->pyppeteer) (0.4.4)\n",
      "Installing collected packages: websockets, pyee, pyppeteer\n",
      "Successfully installed pyee-8.2.2 pyppeteer-1.0.2 websockets-10.4\n",
      "Note: you may need to restart the kernel to use updated packages.\n"
     ]
    }
   ],
   "source": [
    "pip install pyppeteer"
   ]
  },
  {
   "cell_type": "code",
   "execution_count": 50,
   "id": "f03163f8",
   "metadata": {},
   "outputs": [
    {
     "name": "stdout",
     "output_type": "stream",
     "text": [
      "Requirement already satisfied: nbconvert in c:\\users\\kanti\\anaconda3\\lib\\site-packages (6.4.4)\n",
      "Requirement already satisfied: bleach in c:\\users\\kanti\\anaconda3\\lib\\site-packages (from nbconvert) (4.1.0)\n",
      "Requirement already satisfied: jinja2>=2.4 in c:\\users\\kanti\\anaconda3\\lib\\site-packages (from nbconvert) (2.11.3)\n",
      "Requirement already satisfied: testpath in c:\\users\\kanti\\anaconda3\\lib\\site-packages (from nbconvert) (0.5.0)\n",
      "Requirement already satisfied: nbformat>=4.4 in c:\\users\\kanti\\anaconda3\\lib\\site-packages (from nbconvert) (5.3.0)\n",
      "Requirement already satisfied: traitlets>=5.0 in c:\\users\\kanti\\anaconda3\\lib\\site-packages (from nbconvert) (5.1.1)\n",
      "Requirement already satisfied: pygments>=2.4.1 in c:\\users\\kanti\\anaconda3\\lib\\site-packages (from nbconvert) (2.11.2)\n",
      "Requirement already satisfied: mistune<2,>=0.8.1 in c:\\users\\kanti\\anaconda3\\lib\\site-packages (from nbconvert) (0.8.4)\n",
      "Requirement already satisfied: jupyter-core in c:\\users\\kanti\\anaconda3\\lib\\site-packages (from nbconvert) (4.9.2)\n",
      "Requirement already satisfied: entrypoints>=0.2.2 in c:\\users\\kanti\\anaconda3\\lib\\site-packages (from nbconvert) (0.4)\n",
      "Requirement already satisfied: defusedxml in c:\\users\\kanti\\anaconda3\\lib\\site-packages (from nbconvert) (0.7.1)\n",
      "Requirement already satisfied: jupyterlab-pygments in c:\\users\\kanti\\anaconda3\\lib\\site-packages (from nbconvert) (0.1.2)\n",
      "Requirement already satisfied: pandocfilters>=1.4.1 in c:\\users\\kanti\\anaconda3\\lib\\site-packages (from nbconvert) (1.5.0)\n",
      "Requirement already satisfied: beautifulsoup4 in c:\\users\\kanti\\anaconda3\\lib\\site-packages (from nbconvert) (4.11.1)\n",
      "Requirement already satisfied: nbclient<0.6.0,>=0.5.0 in c:\\users\\kanti\\anaconda3\\lib\\site-packages (from nbconvert) (0.5.13)\n",
      "Requirement already satisfied: MarkupSafe>=0.23 in c:\\users\\kanti\\anaconda3\\lib\\site-packages (from jinja2>=2.4->nbconvert) (2.0.1)\n",
      "Requirement already satisfied: nest-asyncio in c:\\users\\kanti\\anaconda3\\lib\\site-packages (from nbclient<0.6.0,>=0.5.0->nbconvert) (1.5.5)\n",
      "Requirement already satisfied: jupyter-client>=6.1.5 in c:\\users\\kanti\\anaconda3\\lib\\site-packages (from nbclient<0.6.0,>=0.5.0->nbconvert) (6.1.12)\n",
      "Requirement already satisfied: python-dateutil>=2.1 in c:\\users\\kanti\\anaconda3\\lib\\site-packages (from jupyter-client>=6.1.5->nbclient<0.6.0,>=0.5.0->nbconvert) (2.8.2)\n",
      "Requirement already satisfied: pyzmq>=13 in c:\\users\\kanti\\anaconda3\\lib\\site-packages (from jupyter-client>=6.1.5->nbclient<0.6.0,>=0.5.0->nbconvert) (22.3.0)\n",
      "Requirement already satisfied: tornado>=4.1 in c:\\users\\kanti\\anaconda3\\lib\\site-packages (from jupyter-client>=6.1.5->nbclient<0.6.0,>=0.5.0->nbconvert) (6.1)\n",
      "Requirement already satisfied: pywin32>=1.0 in c:\\users\\kanti\\anaconda3\\lib\\site-packages (from jupyter-core->nbconvert) (302)\n",
      "Requirement already satisfied: jsonschema>=2.6 in c:\\users\\kanti\\anaconda3\\lib\\site-packages (from nbformat>=4.4->nbconvert) (4.4.0)\n",
      "Requirement already satisfied: fastjsonschema in c:\\users\\kanti\\anaconda3\\lib\\site-packages (from nbformat>=4.4->nbconvert) (2.15.1)\n",
      "Requirement already satisfied: attrs>=17.4.0 in c:\\users\\kanti\\anaconda3\\lib\\site-packages (from jsonschema>=2.6->nbformat>=4.4->nbconvert) (21.4.0)\n",
      "Requirement already satisfied: pyrsistent!=0.17.0,!=0.17.1,!=0.17.2,>=0.14.0 in c:\\users\\kanti\\anaconda3\\lib\\site-packages (from jsonschema>=2.6->nbformat>=4.4->nbconvert) (0.18.0)\n",
      "Requirement already satisfied: six>=1.5 in c:\\users\\kanti\\anaconda3\\lib\\site-packages (from python-dateutil>=2.1->jupyter-client>=6.1.5->nbclient<0.6.0,>=0.5.0->nbconvert) (1.16.0)\n",
      "Requirement already satisfied: soupsieve>1.2 in c:\\users\\kanti\\anaconda3\\lib\\site-packages (from beautifulsoup4->nbconvert) (2.3.2.post1)\n",
      "Requirement already satisfied: packaging in c:\\users\\kanti\\anaconda3\\lib\\site-packages (from bleach->nbconvert) (21.3)\n",
      "Requirement already satisfied: webencodings in c:\\users\\kanti\\anaconda3\\lib\\site-packages (from bleach->nbconvert) (0.5.1)\n",
      "Requirement already satisfied: pyparsing!=3.0.5,>=2.0.2 in c:\\users\\kanti\\anaconda3\\lib\\site-packages (from packaging->bleach->nbconvert) (3.0.4)\n",
      "Note: you may need to restart the kernel to use updated packages.\n"
     ]
    }
   ],
   "source": [
    "pip install nbconvert\n"
   ]
  },
  {
   "cell_type": "code",
   "execution_count": 2,
   "id": "2f28aad1",
   "metadata": {},
   "outputs": [
    {
     "ename": "SyntaxError",
     "evalue": "invalid syntax (1339250388.py, line 1)",
     "output_type": "error",
     "traceback": [
      "\u001b[1;36m  Input \u001b[1;32mIn [2]\u001b[1;36m\u001b[0m\n\u001b[1;33m    nbconvert your_notebook.ipynb --to pdf\u001b[0m\n\u001b[1;37m              ^\u001b[0m\n\u001b[1;31mSyntaxError\u001b[0m\u001b[1;31m:\u001b[0m invalid syntax\n"
     ]
    }
   ],
   "source": [
    "nbconvert your_notebook.ipynb --to pdf"
   ]
  },
  {
   "cell_type": "code",
   "execution_count": null,
   "id": "8bc3ead6",
   "metadata": {},
   "outputs": [],
   "source": []
  }
 ],
 "metadata": {
  "kernelspec": {
   "display_name": "Python 3 (ipykernel)",
   "language": "python",
   "name": "python3"
  },
  "language_info": {
   "codemirror_mode": {
    "name": "ipython",
    "version": 3
   },
   "file_extension": ".py",
   "mimetype": "text/x-python",
   "name": "python",
   "nbconvert_exporter": "python",
   "pygments_lexer": "ipython3",
   "version": "3.9.12"
  }
 },
 "nbformat": 4,
 "nbformat_minor": 5
}
